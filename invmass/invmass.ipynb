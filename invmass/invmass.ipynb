{
  "nbformat": 4,
  "nbformat_minor": 0,
  "metadata": {
    "colab": {
      "provenance": [],
      "authorship_tag": "ABX9TyOONUwqk7WYVR937b88IYhb",
      "include_colab_link": true
    },
    "kernelspec": {
      "name": "python3",
      "display_name": "Python 3"
    },
    "language_info": {
      "name": "python"
    }
  },
  "cells": [
    {
      "cell_type": "markdown",
      "metadata": {
        "id": "view-in-github",
        "colab_type": "text"
      },
      "source": [
        "<a href=\"https://colab.research.google.com/github/zenaiev/hep/blob/main/invmass/invmass.ipynb\" target=\"_parent\"><img src=\"https://colab.research.google.com/assets/colab-badge.svg\" alt=\"Open In Colab\"/></a>"
      ]
    },
    {
      "cell_type": "markdown",
      "source": [
        "Install ROOT"
      ],
      "metadata": {
        "id": "SVecYCDoVXa7"
      }
    },
    {
      "cell_type": "code",
      "source": [
        "!wget https://root.cern/download/root_v6.32.04.Linux-ubuntu22.04-x86_64-gcc11.4.tar.gz\n",
        "!tar -xzf root_v6.32.04.Linux-ubuntu22.04-x86_64-gcc11.4.tar.gz\n",
        "import os\n",
        "pwd = os.getcwd()\n",
        "os.environ['ROOTSYS'] = pwd + '/root'\n",
        "os.environ['PATH'] += ':' + pwd + '/root/bin'\n",
        "os.environ['LD_LIBRARY_PATH'] += ':' + pwd + '/root/lib'\n",
        "import sys\n",
        "sys.path.append(pwd + '/root/lib')\n",
        "import ROOT\n",
        "print(ROOT.__version__)"
      ],
      "metadata": {
        "colab": {
          "base_uri": "https://localhost:8080/"
        },
        "id": "DRjHdShAZ7av",
        "outputId": "555daa9e-8c14-4993-a9b5-6c4475935d45"
      },
      "execution_count": 1,
      "outputs": [
        {
          "output_type": "stream",
          "name": "stdout",
          "text": [
            "--2024-09-19 12:48:55--  https://root.cern/download/root_v6.32.04.Linux-ubuntu22.04-x86_64-gcc11.4.tar.gz\n",
            "Resolving root.cern (root.cern)... 188.184.49.144, 2001:1458:d00:55::100:c\n",
            "Connecting to root.cern (root.cern)|188.184.49.144|:443... connected.\n",
            "HTTP request sent, awaiting response... 200 OK\n",
            "Length: 300006880 (286M) [application/x-gzip]\n",
            "Saving to: ‘root_v6.32.04.Linux-ubuntu22.04-x86_64-gcc11.4.tar.gz’\n",
            "\n",
            "root_v6.32.04.Linux 100%[===================>] 286.11M  25.4MB/s    in 12s     \n",
            "\n",
            "2024-09-19 12:49:08 (23.5 MB/s) - ‘root_v6.32.04.Linux-ubuntu22.04-x86_64-gcc11.4.tar.gz’ saved [300006880/300006880]\n",
            "\n",
            "6.32.04\n"
          ]
        }
      ]
    },
    {
      "cell_type": "markdown",
      "source": [
        "Generate particles, write them to TTree, fill and fit TH1, draw"
      ],
      "metadata": {
        "id": "qaQuT9VUVE8l"
      }
    },
    {
      "cell_type": "code",
      "source": [
        "import ROOT\n",
        "import math\n",
        "import random\n",
        "import tqdm\n",
        "import sys\n",
        "\n",
        "\n",
        "def generate_and_decay(parent_mass, daughter_mass_1, daughter_mass_2):\n",
        "  # Generate random values for momentum and direction\n",
        "  momentum = random.expovariate(1.0)  # Exponential distribution for momentum\n",
        "  theta = random.uniform(0, math.pi)       # Uniform in [0, pi]\n",
        "  phi = random.uniform(0, 2 * math.pi)     # Uniform in [0, 2pi]\n",
        "\n",
        "  # Create a 3-momentum vector using spherical coordinates\n",
        "  px = momentum * math.sin(theta) * math.cos(phi)\n",
        "  py = momentum * math.sin(theta) * math.sin(phi)\n",
        "  pz = momentum * math.cos(theta)\n",
        "\n",
        "  # Create parent particle\n",
        "  parent = ROOT.Math.PxPyPzMVector(px, py, pz, parent_mass)\n",
        "\n",
        "  # Decay\n",
        "  daughter1, daughter2 = two_body_decay(parent, daughter_mass_1, daughter_mass_2)\n",
        "\n",
        "  if 0:\n",
        "    print(f'parent: {parent}, m = {parent.M()}')\n",
        "    print(f'daughter1: {daughter1}, m = {daughter1.M()}')\n",
        "    print(f'daughter2: {daughter2}, m = {daughter2.M()}')\n",
        "    #sys.exit(0)\n",
        "\n",
        "  # Smear momentum of daughter tracks\n",
        "  daughter1 = smear_momentum(daughter1)\n",
        "  daughter2 = smear_momentum(daughter2)\n",
        "\n",
        "  if 0:\n",
        "    print(f'daughter1: {daughter1}, m = {daughter1.M()}')\n",
        "    print(f'daughter2: {daughter2}, m = {daughter2.M()}')\n",
        "    sys.exit(0)\n",
        "\n",
        "  return [daughter1, daughter2]\n",
        "\n",
        "# Function to smear particle momentum\n",
        "def smear_momentum(particle):\n",
        "  fluct = random.normalvariate(1., 0.05) # Normal distribution with mean = 1 and width = 0.05 (5% resolution)\n",
        "  return ROOT.Math.PxPyPzMVector(particle.X() * fluct, particle.Y() * fluct, particle.Z() * fluct, particle.M())\n",
        "\n",
        "# Function to generate a two-body decay in the rest frame of the parent particle\n",
        "def two_body_decay(parent, m1, m2):\n",
        "  # Calculate the momentum of the daughter particles in the parent's rest frame\n",
        "  m0 = parent.M()  # Parent mass\n",
        "\n",
        "  # Energy of the daughters in the rest frame\n",
        "  # In the rest frame, the daughters have equal momenta (p12)\n",
        "  p12 = math.sqrt((m0**2 - (m1 + m2)**2) * (m0**2 - (m1 - m2)**2)) / (2 * m0)\n",
        "  E1 = (m0**2 + m1**2 - m2**2) / (2 * m0)\n",
        "  E2 = (m0**2 + m2**2 - m1**2) / (2 * m0)\n",
        "\n",
        "  # Momentum of the daughters in the rest frame\n",
        "  p = math.sqrt(E1**2 - m1**2)\n",
        "  #print(p, p12)\n",
        "\n",
        "  # Generate random angles for isotropic decay\n",
        "  theta = random.uniform(0, math.pi)\n",
        "  phi = random.uniform(0, 2 * math.pi)\n",
        "\n",
        "  # Momentum components for daughter 1 in the rest frame\n",
        "  p1x = p * math.sin(theta) * math.cos(phi)\n",
        "  p1y = p * math.sin(theta) * math.sin(phi)\n",
        "  p1z = p * math.cos(theta)\n",
        "\n",
        "  # Create four-momentum vectors for the two daughters in the rest frame\n",
        "  daughter1 = ROOT.Math.PxPyPzMVector(p1x, p1y, p1z, m1)\n",
        "  daughter2 = ROOT.Math.PxPyPzMVector(-p1x, -p1y, -p1z, m2)\n",
        "\n",
        "  # Boost daughters back to the lab frame if the parent is moving\n",
        "  boost_vector = ROOT.Math.Boost(parent.BoostToCM())\n",
        "  daughter1 = ROOT.Math.PxPyPzMVector(boost_vector(daughter1))\n",
        "  daughter2 = ROOT.Math.PxPyPzMVector(boost_vector(daughter2))\n",
        "\n",
        "  return daughter1, daughter2\n",
        "\n",
        "\n",
        "\n",
        "if __name__ == '__main__':\n",
        "  if 1:\n",
        "    # Set the number of particles to generate\n",
        "    nParticles = 1000\n",
        "    #nParticles = 10\n",
        "\n",
        "    # Particle masses in GeV [https://pdg.lbl.gov/]\n",
        "    mass_pi_ch = 0.13957\n",
        "    mass_k_zero = 0.497611\n",
        "    mass_d_zero = 1.86484\n",
        "\n",
        "    # random seed for reproducible results\n",
        "    random.seed(42)\n",
        "\n",
        "    # Create a histogram to store generated momenta\n",
        "    hInvMass = ROOT.TH1F(\"hInvMass\", \"Invariant Mass\", 300, 0, 3)\n",
        "\n",
        "    if 1:\n",
        "      # Create tree (store events)\n",
        "      fileout = ROOT.TFile(\"tracks.root\", \"recreate\")\n",
        "      tree = ROOT.TTree('tree', 'Tree with tracks')\n",
        "      tracks_vec = ROOT.std.vector(ROOT.Math.PxPyPzMVector)()\n",
        "      branch = tree.Branch('tracks', tracks_vec)\n",
        "\n",
        "    # Loop over particles and generate random kinematics\n",
        "    #for i in range(nParticles):\n",
        "    for i in tqdm.tqdm(range(nParticles)):\n",
        "      tracks = []\n",
        "      tracks += generate_and_decay(mass_k_zero, mass_pi_ch, mass_pi_ch)\n",
        "      tracks += generate_and_decay(mass_d_zero, mass_pi_ch, mass_pi_ch)\n",
        "      assert len(tracks) == 4\n",
        "\n",
        "      for itr1 in range(len(tracks)):\n",
        "        for itr2 in range(itr1 + 1, len(tracks)):\n",
        "          hInvMass.Fill((tracks[itr1] + tracks[itr2]).M())\n",
        "\n",
        "      if 1:\n",
        "        tracks_vec.clear()\n",
        "        for tr in tracks:\n",
        "          tracks_vec.push_back(tr)\n",
        "        tree.Fill()\n",
        "\n",
        "    # Write TTree to file\n",
        "    if 1:\n",
        "      fileout.cd()\n",
        "      tree.Write()\n",
        "      fileout.Close()\n",
        "\n",
        "  # Read data from TTree\n",
        "  if 0:\n",
        "    filein = ROOT.TFile(\"tracks.root\")\n",
        "    tree = filein.Get('tree')\n",
        "    tracks = ROOT.std.vector(ROOT.Math.PxPyPzMVector)()\n",
        "    tree.SetBranchAddress('tracks', tracks)\n",
        "    hInvMass = ROOT.TH1F(\"hInvMass\", \"Invariant Mass\", 300, 0, 3)\n",
        "    for ientr in range(tree.GetEntries()):\n",
        "      tree.GetEntry(ientr)\n",
        "      for itr1 in range(len(tracks)):\n",
        "        for itr2 in range(itr1 + 1, len(tracks)):\n",
        "          hInvMass.Fill((tracks[itr1] + tracks[itr2]).M())\n",
        "\n",
        "  # Fit\n",
        "  fitFunc = ROOT.TF1(\"fitFunc\",\n",
        "                     \"[0]/(sqrt(2*TMath::Pi())*[2])*TMath::Exp(-0.5*((x-[1])/[2])^2)\"   # First Gaussian\n",
        "                     \" + [3]/(sqrt(2*TMath::Pi())*[5])*TMath::Exp(-0.5*((x-[4])/[5])^2)\" # Second Gaussian\n",
        "                     \" + [6] + [7]*x + [8]*x^2 + [9]*x^3 + [10]*x^4 + [11]*x^5\",               # Polynomial (5th degree)\n",
        "                     #\"gaus(0) + gaus(3) + pol5(6)\",               # Gaus + Gaus + Polynomial (5th degree)\n",
        "                          -10, 10)\n",
        "  fitFunc.SetParameters(1, 0.5, 0.01,  # Amplitude, mean, sigma of first Gaussian\n",
        "                        1, 1.85, 0.05,  # Amplitude, mean, sigma of second Gaussian\n",
        "                        0, 0, 0, 0, 0);    # Coefficients of the polynomial (0 by default anyway)\n",
        "  #print(fitFunc.GetParameter(11))\n",
        "  #fitFunc.SetParameter(11, 10.0)\n",
        "  #print(fitFunc.GetParameter(11))\n",
        "  fitFunc.SetParLimits(1, 0.48, 0.52) # K0 mass\n",
        "  fitFunc.SetParLimits(2, 0., 0.1) # K0 width\n",
        "  fitFunc.SetParLimits(4, 1.8, 1.9) # D0 mass\n",
        "  fitFunc.SetParLimits(5, 0., 0.2) # D0 width\n",
        "  hInvMass.Fit(fitFunc)\n",
        "  bin_width = hInvMass.GetBinLowEdge(2) - hInvMass.GetBinLowEdge(1)\n",
        "  print(f'Number of signal events #1 = {fitFunc.GetParameter(0)/bin_width} +- {fitFunc.GetParError(0)/bin_width}')\n",
        "  print(f'Number of signal events #2 = {fitFunc.GetParameter(3)/bin_width} +- {fitFunc.GetParError(3)/bin_width}')\n",
        "\n",
        "  # Create a canvas to draw the histogram\n",
        "  canvas = ROOT.TCanvas(\"canvas\", \"Invariant Mass\", 600, 600)\n",
        "  hInvMass.GetXaxis().SetTitle('M(\\\\pi^{+}\\\\pi^{-}) [GeV]')\n",
        "  hInvMass.GetYaxis().SetTitle('Events')\n",
        "  hInvMass.Draw()\n",
        "\n",
        "  # Save the histogram as an image\n",
        "  canvas.SaveAs(\"invmass.pdf\")\n",
        "  canvas.SaveAs(\"invmass.png\")\n"
      ],
      "metadata": {
        "id": "5MY-Nto7EAvV",
        "colab": {
          "base_uri": "https://localhost:8080/",
          "height": 1000
        },
        "outputId": "cec16776-7b56-49e6-f361-b24f0ab1e37e"
      },
      "execution_count": 2,
      "outputs": [
        {
          "output_type": "stream",
          "name": "stderr",
          "text": [
            "100%|██████████| 1000/1000 [00:09<00:00, 103.57it/s]\n"
          ]
        },
        {
          "output_type": "stream",
          "name": "stdout",
          "text": [
            "Number of signal events #1 = 994.0388645786218 +- 34.98440341852908\n",
            "Number of signal events #2 = 1099.7185408040825 +- 36.30121215667105\n",
            "****************************************\n",
            "Minimizer is Minuit2 / Migrad\n",
            "Chi2                      =      227.909\n",
            "NDf                       =          245\n",
            "Edm                       =  2.88316e-06\n",
            "NCalls                    =         1202\n",
            "p0                        =      9.94039   +/-   0.349844    \n",
            "p1                        =     0.497285   +/-   0.000460491  \t (limited)\n",
            "p2                        =    0.0117313   +/-   0.000374577  \t (limited)\n",
            "p3                        =      10.9972   +/-   0.363012    \n",
            "p4                        =      1.86264   +/-   0.00235902   \t (limited)\n",
            "p5                        =    0.0686642   +/-   0.00216162   \t (limited)\n",
            "p6                        =     -100.859   +/-   0.613922    \n",
            "p7                        =      549.669   +/-   0.549537    \n",
            "p8                        =     -756.965   +/-   0.234469    \n",
            "p9                        =      446.983   +/-   0.092794    \n",
            "p10                       =     -121.499   +/-   0.0328553   \n",
            "p11                       =      12.5099   +/-   0.00931343  \n"
          ]
        },
        {
          "output_type": "stream",
          "name": "stderr",
          "text": [
            "Info in <TCanvas::MakeDefCanvas>:  created default TCanvas with name c1\n",
            "Info in <TCanvas::Print>: pdf file invmass.pdf has been created\n",
            "Info in <TCanvas::Print>: png file invmass.png has been created\n"
          ]
        },
        {
          "output_type": "display_data",
          "data": {
            "image/png": "[encoded data removed]",
            "text/plain": [
              "<IPython.core.display.Image object>"
            ]
          },
          "metadata": {}
        }
      ]
    },
    {
      "cell_type": "markdown",
      "source": [
        "Check if tracks.root (file with TTree) exists"
      ],
      "metadata": {
        "id": "3tmZywkFWmPA"
      }
    },
    {
      "cell_type": "code",
      "source": [
        "ls -l"
      ],
      "metadata": {
        "colab": {
          "base_uri": "https://localhost:8080/"
        },
        "id": "QA0mPweFWp2L",
        "outputId": "17556ae7-79bb-4287-9458-d4309f1fc7bc"
      },
      "execution_count": 4,
      "outputs": [
        {
          "output_type": "stream",
          "name": "stdout",
          "text": [
            "total 293136\n",
            "-rw-r--r--  1 root root     16865 Sep 19 12:50 invmass.pdf\n",
            "-rw-r--r--  1 root root     12135 Sep 19 12:50 invmass.png\n",
            "drwxr-xr-x 17 root root      4096 Aug 14 04:14 \u001b[0m\u001b[01;34mroot\u001b[0m/\n",
            "-rw-r--r--  1 root root 300006880 Aug 14 09:30 root_v6.32.04.Linux-ubuntu22.04-x86_64-gcc11.4.tar.gz\n",
            "drwxr-xr-x  1 root root      4096 Sep 17 13:22 \u001b[01;34msample_data\u001b[0m/\n",
            "-rw-r--r--  1 root root    115712 Sep 19 12:50 tracks.root\n"
          ]
        }
      ]
    },
    {
      "cell_type": "markdown",
      "source": [
        "Read TTree and translate to pandas"
      ],
      "metadata": {
        "id": "BvdTnzTIVb1O"
      }
    },
    {
      "cell_type": "code",
      "source": [
        "import ROOT\n",
        "import pandas as pd\n",
        "\n",
        "# Open the ROOT file\n",
        "file = ROOT.TFile(\"tracks.root\")\n",
        "\n",
        "# Access the TTree\n",
        "tree = file[\"tree\"]\n",
        "\n",
        "# Create lists to store TLorentzVector components\n",
        "px_list, py_list, pz_list, m_list = [], [], [], []\n",
        "\n",
        "# Loop through the events and extract Lorentz vectors, print first 5 events\n",
        "i = 0\n",
        "for event in tree:\n",
        "    i += 1\n",
        "    if(i<=5): print(f'i = {i}')\n",
        "    px, py, pz, m = [], [], [], []\n",
        "    for vec in event.tracks:\n",
        "        if(i<=5): print(vec)\n",
        "        px.append(vec.Px())\n",
        "        py.append(vec.Py())\n",
        "        pz.append(vec.Pz())\n",
        "        m.append(vec.M())\n",
        "\n",
        "    # Store the event-level data\n",
        "    px_list.append(px)\n",
        "    py_list.append(py)\n",
        "    pz_list.append(pz)\n",
        "    m_list.append(m)\n",
        "\n",
        "# Create a DataFrame\n",
        "df = pd.DataFrame({\n",
        "    'px': px_list,\n",
        "    'py': py_list,\n",
        "    'pz': pz_list,\n",
        "    'M': m_list\n",
        "})\n",
        "\n",
        "# Inspect the DataFrame (first 5 entries)\n",
        "print(df.head())\n"
      ],
      "metadata": {
        "id": "P1s_Yv1CO37X",
        "colab": {
          "base_uri": "https://localhost:8080/"
        },
        "outputId": "a6051294-fa34-445a-c25b-8aae5f2ce84c"
      },
      "execution_count": 5,
      "outputs": [
        {
          "output_type": "stream",
          "name": "stdout",
          "text": [
            "i = 1\n",
            "(-0.00835249,-0.179495,-0.186702,0.13957)\n",
            "(0.0186455,0.0734949,-0.800927,0.13957)\n",
            "(0.0347371,0.0752218,0.932716,0.13957)\n",
            "(-0.0137582,-0.0682763,-0.876156,0.13957)\n",
            "i = 2\n",
            "(-0.0963345,0.160386,-1.23516,0.13957)\n",
            "(0.0901959,-0.137169,-0.42143,0.13957)\n",
            "(-1.74177,-0.146535,0.469808,0.13957)\n",
            "(0.365266,0.381017,-0.310026,0.13957)\n",
            "i = 3\n",
            "(0.131511,0.023425,-0.243644,0.13957)\n",
            "(-0.150845,-0.186972,-0.906686,0.13957)\n",
            "(0.599594,-0.47844,0.545143,0.13957)\n",
            "(-0.614195,0.0538936,-0.634275,0.13957)\n",
            "i = 4\n",
            "(-0.295299,-0.0650516,-0.137667,0.13957)\n",
            "(0.106013,0.0721504,0.0609175,0.13957)\n",
            "(0.557796,-0.222717,0.751599,0.13957)\n",
            "(-0.541351,0.189665,-0.751889,0.13957)\n",
            "i = 5\n",
            "(-0.0107934,-1.29054,-0.0218027,0.13957)\n",
            "(0.25266,-1.13248,-0.310882,0.13957)\n",
            "(0.227032,0.0690191,0.924817,0.13957)\n",
            "(-0.258272,-0.0790031,-0.80188,0.13957)\n",
            "                                                  px  \\\n",
            "0  [-0.008352485449223136, 0.01864550892320508, 0...   \n",
            "1  [-0.09633451246919511, 0.0901958602541489, -1....   \n",
            "2  [0.13151075021496578, -0.15084547821984942, 0....   \n",
            "3  [-0.295299302342922, 0.10601314775045038, 0.55...   \n",
            "4  [-0.010793416392907805, 0.252660064214507, 0.2...   \n",
            "\n",
            "                                                  py  \\\n",
            "0  [-0.17949521321757336, 0.07349486441822334, 0....   \n",
            "1  [0.1603860067480851, -0.13716874591542358, -0....   \n",
            "2  [0.023425006976633904, -0.1869716239296144, -0...   \n",
            "3  [-0.06505162422578527, 0.0721504145061378, -0....   \n",
            "4  [-1.2905402795382135, -1.1324814152082938, 0.0...   \n",
            "\n",
            "                                                  pz  \\\n",
            "0  [-0.18670165610815054, -0.800927285429506, 0.9...   \n",
            "1  [-1.235164007484646, -0.4214303787258024, 0.46...   \n",
            "2  [-0.24364415770506015, -0.9066862283936332, 0....   \n",
            "3  [-0.13766667351833045, 0.06091747770998141, 0....   \n",
            "4  [-0.02180265735690234, -0.3108824464782488, 0....   \n",
            "\n",
            "                                                   M  \n",
            "0  [0.13956999999999994, 0.13956999999999967, 0.1...  \n",
            "1  [0.13956999999999967, 0.13957000000000028, 0.1...  \n",
            "2  [0.13956999999999986, 0.13956999999999928, 0.1...  \n",
            "3  [0.13957000000000006, 0.13957, 0.1395700000000...  \n",
            "4  [0.13956999999999953, 0.13956999999999908, 0.1...  \n"
          ]
        }
      ]
    }
  ]
}